{
 "cells": [
  {
   "cell_type": "markdown",
   "id": "641e27c7",
   "metadata": {},
   "source": [
    "# Librairies"
   ]
  },
  {
   "cell_type": "code",
   "execution_count": 1,
   "id": "6e6171f0",
   "metadata": {},
   "outputs": [],
   "source": [
    "import requests\n",
    "import json\n",
    "import os\n",
    "from faker import Faker\n",
    "from tqdm import tqdm \n",
    "import os\n",
    "import pathlib\n",
    "\n",
    "#import session_info\n",
    "#session_info.show()"
   ]
  },
  {
   "cell_type": "markdown",
   "id": "8f0cffbf",
   "metadata": {},
   "source": [
    "# Create folders to store data "
   ]
  },
  {
   "cell_type": "code",
   "execution_count": 2,
   "id": "25fa574e",
   "metadata": {},
   "outputs": [],
   "source": [
    "current_path = pathlib.Path().resolve()\n",
    "\n",
    "json_5K = os.path.join(current_path, \"json1\")\n",
    "json_2_5K = os.path.join(current_path, \"json2\")\n",
    "json_1_5K = os.path.join(current_path, \"json3\")\n",
    "\n",
    "os.mkdir(json_5K)\n",
    "os.mkdir(json_2_5K)\n",
    "os.mkdir(json_1_5K)"
   ]
  },
  {
   "cell_type": "markdown",
   "id": "7e7cbb84",
   "metadata": {},
   "source": [
    "You can generate the number of random address you want in a certain country thanks to Reverse Geocoder API on GCP (also avalaible on AWS): https://console.cloud.google.com/marketplace/product/geolytica-public/reverse-geocode-lite-3geonames-org?project=silent-blade-354311\n",
    "Once you have launched the API, they will provide you your own IP to call the API (Feature: Site address)"
   ]
  },
  {
   "cell_type": "markdown",
   "id": "28026dba",
   "metadata": {},
   "source": [
    "# Generate Addresses"
   ]
  },
  {
   "cell_type": "code",
   "execution_count": null,
   "id": "72cbab56",
   "metadata": {},
   "outputs": [],
   "source": [
    "faker_json = {\"BE\": \"fr_BE\", \"EL\": \"el\", \"PT\": \"pt_PT\", \"UK\": \"uk\", \"ES\": \"es\", \"RO\": \"ro\", \"CZ\": \"cz\", \"FR\": \"fr\", \"HU\": \"hu\", \"HR\": \"hr\", \"RU\": \"ge\", \"SK\": \"sk\", \"DE\": \"de\", \"IT\": \"it\", \"NL\": \"nl\", \"FI\": \"fi\", \"PL\": \"pl\", \"LV\": \"lv\"}\n",
    "\n",
    "countries_5000 = [\"BE\", \"LT\", \"PT\", \"BG\", \"UK\", \"ES\", \"LU\", \"RO\", \"CZ\", \"FR\", \"HU\", \"SI\", \"DK\", \"HR\", \"MT\", \"SK\", \"DE\", \"IT\", \"NL\", \"FI\", \"EE\", \"CY\", \"AT\", \"SE\" , \"IE\", \"LV\", \"PL\", \"NO\", \"CH\", \"LI\", \"IS\", \"RU\"]\n",
    "countries_2500 = [\"AL\", \"ME\", \"RS\", \"MK\", \"TR\", \"BA\", \"AM\", \"BY\", \"GE\", \"AZ\", \"MD\", \"UA\"]\n",
    "countries_1500 = [\"DZ\", \"LB\", \"SY\", \"EG\", \"LY\", \"TN\", \"IL\", \"MA\", \"JO\", \"PS\"]\n",
    "\n",
    "counter = 0\n",
    "iteration = {1:5000, 2:2500, 3:1500} #We choose the number of iteration for each country batch\n",
    "\n",
    "for countries in tqdm([countries_5000,countries_2500,countries_1500]):\n",
    "    counter+=1\n",
    "    for code in tqdm(countries): #We loop throught all the countries where we want to generate addresses\n",
    "        addresses_array = []\n",
    "        for sample in tqdm(range(0,iteration[counter])): #We decide how many addresses we want for each country \n",
    "            try:\n",
    "                resp = requests.get(\"http://<YOUR_SITE_ADDRESS_IP>/randomland.\"+code+\".json\")\n",
    "                data = resp.json()\n",
    "\n",
    "                data_dict = {}\n",
    "                data_dict[\"state\"] = data[\"nearest\"][\"state\"]\n",
    "                data_dict[\"name\"] = data[\"nearest\"][\"name\"]\n",
    "                data_dict[\"city\"] = data[\"nearest\"][\"city\"]\n",
    "                data_dict[\"prov\"] = data[\"nearest\"][\"prov\"]\n",
    "                data_dict[\"region\"] = data[\"nearest\"][\"region\"]\n",
    "                data_dict[\"latt\"] = data[\"nearest\"][\"latt\"]\n",
    "                data_dict[\"longt\"] = data[\"nearest\"][\"longt\"]\n",
    "\n",
    "                try:\n",
    "                    fake = Faker(faker_json[code])\n",
    "                    data_dict[\"address\"] = fake.address()\n",
    "                except: #Faker doesn't support this address language. So, we put an english address\n",
    "                    fake = Faker('en')\n",
    "                    data_dict[\"address\"] = fake.address()\n",
    "\n",
    "                addresses_array.append(data_dict)\n",
    "\n",
    "            except: #If a country isn't supported by the API, or another error occur, we catch the error to iterate \n",
    "                print(\"An API call went wrong, we iterate\")\n",
    "\n",
    "        json_country = json.dumps(addresses_array)\n",
    "        with open('json'+str(counter)+'/data_'+code+'.json', 'w') as outfile:\n",
    "            json.dump(json_country, outfile,indent=4)"
   ]
  },
  {
   "cell_type": "code",
   "execution_count": null,
   "id": "c84dc2c5",
   "metadata": {},
   "outputs": [],
   "source": []
  }
 ],
 "metadata": {
  "kernelspec": {
   "display_name": "Python 3 (ipykernel)",
   "language": "python",
   "name": "python3"
  },
  "language_info": {
   "codemirror_mode": {
    "name": "ipython",
    "version": 3
   },
   "file_extension": ".py",
   "mimetype": "text/x-python",
   "name": "python",
   "nbconvert_exporter": "python",
   "pygments_lexer": "ipython3",
   "version": "3.9.12"
  }
 },
 "nbformat": 4,
 "nbformat_minor": 5
}
